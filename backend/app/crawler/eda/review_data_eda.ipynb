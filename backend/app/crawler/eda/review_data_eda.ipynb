{
 "cells": [
  {
   "cell_type": "code",
   "execution_count": 18,
   "metadata": {
    "collapsed": true,
    "ExecuteTime": {
     "end_time": "2023-07-06T00:46:24.249351Z",
     "start_time": "2023-07-06T00:46:24.246034Z"
    }
   },
   "outputs": [],
   "source": [
    "import pandas as pd\n",
    "import numpy as np"
   ]
  },
  {
   "cell_type": "code",
   "execution_count": 19,
   "outputs": [],
   "source": [
    "review_df = pd.read_csv('../review_치킨_ver2.1.csv')"
   ],
   "metadata": {
    "collapsed": false,
    "ExecuteTime": {
     "end_time": "2023-07-06T00:46:24.829639Z",
     "start_time": "2023-07-06T00:46:24.810860Z"
    }
   }
  },
  {
   "cell_type": "code",
   "execution_count": 20,
   "outputs": [
    {
     "data": {
      "text/plain": "                        prod_name user_name  rating             headline  \\\n0  하림 에어프라이어 순살치킨 (냉동), 1000g, 1개      어지름신       3       조리 간편하고 맛도 있어요   \n1  하림 에어프라이어 순살치킨 (냉동), 1000g, 1개       정*훈       5  겉은 바삭하면서도 속살은 부드러위요   \n2  하림 에어프라이어 순살치킨 (냉동), 1000g, 1개     섬마을언니       4           냉동실 필수 식품.   \n3  하림 에어프라이어 순살치킨 (냉동), 1000g, 1개       박도원       5                  NaN   \n4  하림 에어프라이어 순살치킨 (냉동), 1000g, 1개        지*       5                  NaN   \n\n                                      review_content     answer  helped_cnt  \n0  우선 에어프라이어 특화상품이라 편해요어떻게 조리할 지 고민할 필요 없어요에어프라이기...       괜찮아요           1  \n1  대용량의 순살치킨을 구매하였어요1키로용량이라 넉넉하게 먹을수있어요조리는 매우간편한편...  예상보다 맛있어요           6  \n2  냉동실에 늘 있는 순살 치킨다양한 메뉴로 변신 가능하죠치킨 표면에 찹쌀 누룽지처럼 ...  예상보다 맛있어요           2  \n3  세번째 재구매여태까지 먹어본 냉동 치킨 중에 이게 제일 맛있습니다 믿고 구매해보세요...        NaN           2  \n4  하림 에어프라이어 순살치킨 냉동 1000g 재구매했어요에어프라이어에 특화되어 있데요...  예상보다 맛있어요           1  ",
      "text/html": "<div>\n<style scoped>\n    .dataframe tbody tr th:only-of-type {\n        vertical-align: middle;\n    }\n\n    .dataframe tbody tr th {\n        vertical-align: top;\n    }\n\n    .dataframe thead th {\n        text-align: right;\n    }\n</style>\n<table border=\"1\" class=\"dataframe\">\n  <thead>\n    <tr style=\"text-align: right;\">\n      <th></th>\n      <th>prod_name</th>\n      <th>user_name</th>\n      <th>rating</th>\n      <th>headline</th>\n      <th>review_content</th>\n      <th>answer</th>\n      <th>helped_cnt</th>\n    </tr>\n  </thead>\n  <tbody>\n    <tr>\n      <th>0</th>\n      <td>하림 에어프라이어 순살치킨 (냉동), 1000g, 1개</td>\n      <td>어지름신</td>\n      <td>3</td>\n      <td>조리 간편하고 맛도 있어요</td>\n      <td>우선 에어프라이어 특화상품이라 편해요어떻게 조리할 지 고민할 필요 없어요에어프라이기...</td>\n      <td>괜찮아요</td>\n      <td>1</td>\n    </tr>\n    <tr>\n      <th>1</th>\n      <td>하림 에어프라이어 순살치킨 (냉동), 1000g, 1개</td>\n      <td>정*훈</td>\n      <td>5</td>\n      <td>겉은 바삭하면서도 속살은 부드러위요</td>\n      <td>대용량의 순살치킨을 구매하였어요1키로용량이라 넉넉하게 먹을수있어요조리는 매우간편한편...</td>\n      <td>예상보다 맛있어요</td>\n      <td>6</td>\n    </tr>\n    <tr>\n      <th>2</th>\n      <td>하림 에어프라이어 순살치킨 (냉동), 1000g, 1개</td>\n      <td>섬마을언니</td>\n      <td>4</td>\n      <td>냉동실 필수 식품.</td>\n      <td>냉동실에 늘 있는 순살 치킨다양한 메뉴로 변신 가능하죠치킨 표면에 찹쌀 누룽지처럼 ...</td>\n      <td>예상보다 맛있어요</td>\n      <td>2</td>\n    </tr>\n    <tr>\n      <th>3</th>\n      <td>하림 에어프라이어 순살치킨 (냉동), 1000g, 1개</td>\n      <td>박도원</td>\n      <td>5</td>\n      <td>NaN</td>\n      <td>세번째 재구매여태까지 먹어본 냉동 치킨 중에 이게 제일 맛있습니다 믿고 구매해보세요...</td>\n      <td>NaN</td>\n      <td>2</td>\n    </tr>\n    <tr>\n      <th>4</th>\n      <td>하림 에어프라이어 순살치킨 (냉동), 1000g, 1개</td>\n      <td>지*</td>\n      <td>5</td>\n      <td>NaN</td>\n      <td>하림 에어프라이어 순살치킨 냉동 1000g 재구매했어요에어프라이어에 특화되어 있데요...</td>\n      <td>예상보다 맛있어요</td>\n      <td>1</td>\n    </tr>\n  </tbody>\n</table>\n</div>"
     },
     "execution_count": 20,
     "metadata": {},
     "output_type": "execute_result"
    }
   ],
   "source": [
    "review_df.head()"
   ],
   "metadata": {
    "collapsed": false,
    "ExecuteTime": {
     "end_time": "2023-07-06T00:46:25.670357Z",
     "start_time": "2023-07-06T00:46:25.667758Z"
    }
   }
  },
  {
   "cell_type": "code",
   "execution_count": 21,
   "outputs": [
    {
     "name": "stdout",
     "output_type": "stream",
     "text": [
      "<class 'pandas.core.frame.DataFrame'>\n",
      "RangeIndex: 200 entries, 0 to 199\n",
      "Data columns (total 7 columns):\n",
      " #   Column          Non-Null Count  Dtype \n",
      "---  ------          --------------  ----- \n",
      " 0   prod_name       200 non-null    object\n",
      " 1   user_name       200 non-null    object\n",
      " 2   rating          200 non-null    int64 \n",
      " 3   headline        148 non-null    object\n",
      " 4   review_content  200 non-null    object\n",
      " 5   answer          194 non-null    object\n",
      " 6   helped_cnt      200 non-null    int64 \n",
      "dtypes: int64(2), object(5)\n",
      "memory usage: 11.1+ KB\n"
     ]
    }
   ],
   "source": [
    "review_df.info()"
   ],
   "metadata": {
    "collapsed": false,
    "ExecuteTime": {
     "end_time": "2023-07-06T00:46:26.786526Z",
     "start_time": "2023-07-06T00:46:26.782643Z"
    }
   }
  },
  {
   "cell_type": "code",
   "execution_count": 22,
   "outputs": [],
   "source": [
    "# review_content 평균 길이\n",
    "review_df['review_content_len'] = review_df['review_content'].apply(lambda x: len(x))"
   ],
   "metadata": {
    "collapsed": false,
    "ExecuteTime": {
     "end_time": "2023-07-06T00:46:27.713057Z",
     "start_time": "2023-07-06T00:46:27.707789Z"
    }
   }
  },
  {
   "cell_type": "code",
   "execution_count": 23,
   "outputs": [
    {
     "data": {
      "text/plain": "count    200.000000\nmean     326.205000\nstd      114.045495\nmin       70.000000\n25%      247.750000\n50%      337.500000\n75%      425.500000\nmax      500.000000\nName: review_content_len, dtype: float64"
     },
     "execution_count": 23,
     "metadata": {},
     "output_type": "execute_result"
    }
   ],
   "source": [
    "review_df['review_content_len'].describe()"
   ],
   "metadata": {
    "collapsed": false,
    "ExecuteTime": {
     "end_time": "2023-07-06T00:46:28.162006Z",
     "start_time": "2023-07-06T00:46:28.156747Z"
    }
   }
  },
  {
   "cell_type": "code",
   "execution_count": 23,
   "outputs": [],
   "source": [],
   "metadata": {
    "collapsed": false,
    "ExecuteTime": {
     "end_time": "2023-07-06T00:46:28.897222Z",
     "start_time": "2023-07-06T00:46:28.883525Z"
    }
   }
  },
  {
   "cell_type": "code",
   "execution_count": 27,
   "outputs": [
    {
     "data": {
      "text/plain": "                                        user_name  rating  headline  \\\nprod_name                                                             \n곰곰 닭다리 순살치킨가라아게, 1kg, 1개                       20      20         9   \n마니커에프앤지 바사삭 치킨 닭다리 (냉동), 850g, 1개              20      20        16   \n마니커에프앤지 바사삭치킨 한마리 12조각 (냉동), 500g, 2개입         20      20        18   \n사세 치킨 가라아게 (냉동), 500g, 2개                      20      20        17   \n애슐리 오리지널 통살 치킨 (냉동), 500g, 2팩                   1       1         0   \n애슐리 오리지널 통살치킨 (냉동), 1200g, 1개                  19      19        14   \n오뚜기 오즈키친 크리스피 치킨 (냉동), 500g, 2개                20      20        11   \n올반 슈퍼크런치 치킨텐더 (냉동), 440g, 1개                   20      20        17   \n크리스피 안심텐더 한마리 (냉동), 500g, 1개                   20      20        15   \n하림 에어프라이어 순살치킨 (냉동), 1000g, 1개                 17      17        11   \n하림 에어프라이어 순살치킨 (냉동), 480g, 2개                   3       3         2   \n하림 텐더스틱 (냉동), 1000g, 1개                         2       2         2   \n하림 텐더스틱 (냉동), 1200g, 1개                        18      18        16   \n\n                                        review_content  answer  helped_cnt  \\\nprod_name                                                                    \n곰곰 닭다리 순살치킨가라아게, 1kg, 1개                            20      18          20   \n마니커에프앤지 바사삭 치킨 닭다리 (냉동), 850g, 1개                   20      19          20   \n마니커에프앤지 바사삭치킨 한마리 12조각 (냉동), 500g, 2개입              20      20          20   \n사세 치킨 가라아게 (냉동), 500g, 2개                           20      20          20   \n애슐리 오리지널 통살 치킨 (냉동), 500g, 2팩                        1       1           1   \n애슐리 오리지널 통살치킨 (냉동), 1200g, 1개                       19      19          19   \n오뚜기 오즈키친 크리스피 치킨 (냉동), 500g, 2개                     20      20          20   \n올반 슈퍼크런치 치킨텐더 (냉동), 440g, 1개                        20      19          20   \n크리스피 안심텐더 한마리 (냉동), 500g, 1개                        20      20          20   \n하림 에어프라이어 순살치킨 (냉동), 1000g, 1개                      17      16          17   \n하림 에어프라이어 순살치킨 (냉동), 480g, 2개                        3       2           3   \n하림 텐더스틱 (냉동), 1000g, 1개                              2       2           2   \n하림 텐더스틱 (냉동), 1200g, 1개                             18      18          18   \n\n                                        review_content_len  \nprod_name                                                   \n곰곰 닭다리 순살치킨가라아게, 1kg, 1개                                20  \n마니커에프앤지 바사삭 치킨 닭다리 (냉동), 850g, 1개                       20  \n마니커에프앤지 바사삭치킨 한마리 12조각 (냉동), 500g, 2개입                  20  \n사세 치킨 가라아게 (냉동), 500g, 2개                               20  \n애슐리 오리지널 통살 치킨 (냉동), 500g, 2팩                            1  \n애슐리 오리지널 통살치킨 (냉동), 1200g, 1개                           19  \n오뚜기 오즈키친 크리스피 치킨 (냉동), 500g, 2개                         20  \n올반 슈퍼크런치 치킨텐더 (냉동), 440g, 1개                            20  \n크리스피 안심텐더 한마리 (냉동), 500g, 1개                            20  \n하림 에어프라이어 순살치킨 (냉동), 1000g, 1개                          17  \n하림 에어프라이어 순살치킨 (냉동), 480g, 2개                            3  \n하림 텐더스틱 (냉동), 1000g, 1개                                  2  \n하림 텐더스틱 (냉동), 1200g, 1개                                 18  ",
      "text/html": "<div>\n<style scoped>\n    .dataframe tbody tr th:only-of-type {\n        vertical-align: middle;\n    }\n\n    .dataframe tbody tr th {\n        vertical-align: top;\n    }\n\n    .dataframe thead th {\n        text-align: right;\n    }\n</style>\n<table border=\"1\" class=\"dataframe\">\n  <thead>\n    <tr style=\"text-align: right;\">\n      <th></th>\n      <th>user_name</th>\n      <th>rating</th>\n      <th>headline</th>\n      <th>review_content</th>\n      <th>answer</th>\n      <th>helped_cnt</th>\n      <th>review_content_len</th>\n    </tr>\n    <tr>\n      <th>prod_name</th>\n      <th></th>\n      <th></th>\n      <th></th>\n      <th></th>\n      <th></th>\n      <th></th>\n      <th></th>\n    </tr>\n  </thead>\n  <tbody>\n    <tr>\n      <th>곰곰 닭다리 순살치킨가라아게, 1kg, 1개</th>\n      <td>20</td>\n      <td>20</td>\n      <td>9</td>\n      <td>20</td>\n      <td>18</td>\n      <td>20</td>\n      <td>20</td>\n    </tr>\n    <tr>\n      <th>마니커에프앤지 바사삭 치킨 닭다리 (냉동), 850g, 1개</th>\n      <td>20</td>\n      <td>20</td>\n      <td>16</td>\n      <td>20</td>\n      <td>19</td>\n      <td>20</td>\n      <td>20</td>\n    </tr>\n    <tr>\n      <th>마니커에프앤지 바사삭치킨 한마리 12조각 (냉동), 500g, 2개입</th>\n      <td>20</td>\n      <td>20</td>\n      <td>18</td>\n      <td>20</td>\n      <td>20</td>\n      <td>20</td>\n      <td>20</td>\n    </tr>\n    <tr>\n      <th>사세 치킨 가라아게 (냉동), 500g, 2개</th>\n      <td>20</td>\n      <td>20</td>\n      <td>17</td>\n      <td>20</td>\n      <td>20</td>\n      <td>20</td>\n      <td>20</td>\n    </tr>\n    <tr>\n      <th>애슐리 오리지널 통살 치킨 (냉동), 500g, 2팩</th>\n      <td>1</td>\n      <td>1</td>\n      <td>0</td>\n      <td>1</td>\n      <td>1</td>\n      <td>1</td>\n      <td>1</td>\n    </tr>\n    <tr>\n      <th>애슐리 오리지널 통살치킨 (냉동), 1200g, 1개</th>\n      <td>19</td>\n      <td>19</td>\n      <td>14</td>\n      <td>19</td>\n      <td>19</td>\n      <td>19</td>\n      <td>19</td>\n    </tr>\n    <tr>\n      <th>오뚜기 오즈키친 크리스피 치킨 (냉동), 500g, 2개</th>\n      <td>20</td>\n      <td>20</td>\n      <td>11</td>\n      <td>20</td>\n      <td>20</td>\n      <td>20</td>\n      <td>20</td>\n    </tr>\n    <tr>\n      <th>올반 슈퍼크런치 치킨텐더 (냉동), 440g, 1개</th>\n      <td>20</td>\n      <td>20</td>\n      <td>17</td>\n      <td>20</td>\n      <td>19</td>\n      <td>20</td>\n      <td>20</td>\n    </tr>\n    <tr>\n      <th>크리스피 안심텐더 한마리 (냉동), 500g, 1개</th>\n      <td>20</td>\n      <td>20</td>\n      <td>15</td>\n      <td>20</td>\n      <td>20</td>\n      <td>20</td>\n      <td>20</td>\n    </tr>\n    <tr>\n      <th>하림 에어프라이어 순살치킨 (냉동), 1000g, 1개</th>\n      <td>17</td>\n      <td>17</td>\n      <td>11</td>\n      <td>17</td>\n      <td>16</td>\n      <td>17</td>\n      <td>17</td>\n    </tr>\n    <tr>\n      <th>하림 에어프라이어 순살치킨 (냉동), 480g, 2개</th>\n      <td>3</td>\n      <td>3</td>\n      <td>2</td>\n      <td>3</td>\n      <td>2</td>\n      <td>3</td>\n      <td>3</td>\n    </tr>\n    <tr>\n      <th>하림 텐더스틱 (냉동), 1000g, 1개</th>\n      <td>2</td>\n      <td>2</td>\n      <td>2</td>\n      <td>2</td>\n      <td>2</td>\n      <td>2</td>\n      <td>2</td>\n    </tr>\n    <tr>\n      <th>하림 텐더스틱 (냉동), 1200g, 1개</th>\n      <td>18</td>\n      <td>18</td>\n      <td>16</td>\n      <td>18</td>\n      <td>18</td>\n      <td>18</td>\n      <td>18</td>\n    </tr>\n  </tbody>\n</table>\n</div>"
     },
     "execution_count": 27,
     "metadata": {},
     "output_type": "execute_result"
    }
   ],
   "source": [
    "review_df.groupby(review_df['prod_name']).count()"
   ],
   "metadata": {
    "collapsed": false,
    "ExecuteTime": {
     "end_time": "2023-07-06T00:51:54.029707Z",
     "start_time": "2023-07-06T00:51:54.022493Z"
    }
   }
  },
  {
   "cell_type": "code",
   "execution_count": 25,
   "outputs": [
    {
     "data": {
      "text/plain": "200"
     },
     "execution_count": 25,
     "metadata": {},
     "output_type": "execute_result"
    }
   ],
   "source": [
    "len(review_df)\n",
    "\n"
   ],
   "metadata": {
    "collapsed": false,
    "ExecuteTime": {
     "end_time": "2023-07-06T00:51:21.210666Z",
     "start_time": "2023-07-06T00:51:21.207958Z"
    }
   }
  },
  {
   "cell_type": "code",
   "execution_count": null,
   "outputs": [],
   "source": [
    "\n"
   ],
   "metadata": {
    "collapsed": false
   }
  }
 ],
 "metadata": {
  "kernelspec": {
   "display_name": "Python 3",
   "language": "python",
   "name": "python3"
  },
  "language_info": {
   "codemirror_mode": {
    "name": "ipython",
    "version": 2
   },
   "file_extension": ".py",
   "mimetype": "text/x-python",
   "name": "python",
   "nbconvert_exporter": "python",
   "pygments_lexer": "ipython2",
   "version": "2.7.6"
  }
 },
 "nbformat": 4,
 "nbformat_minor": 0
}
